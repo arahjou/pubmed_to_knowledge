{
 "cells": [
  {
   "cell_type": "markdown",
   "metadata": {},
   "source": [
    "### Pairing function"
   ]
  },
  {
   "cell_type": "code",
   "execution_count": 6,
   "metadata": {},
   "outputs": [
    {
     "name": "stdout",
     "output_type": "stream",
     "text": [
      "53BP1 AND RIF1\n",
      "53BP1 AND BRCA1\n",
      "53BP1 AND SHILD1\n",
      "53BP1 AND RNF8\n",
      "53BP1 AND SHILD2\n",
      "53BP1 AND SHILD2\n",
      "RIF1 AND BRCA1\n",
      "RIF1 AND SHILD1\n",
      "RIF1 AND RNF8\n",
      "RIF1 AND SHILD2\n",
      "RIF1 AND SHILD2\n",
      "BRCA1 AND SHILD1\n",
      "BRCA1 AND RNF8\n",
      "BRCA1 AND SHILD2\n",
      "BRCA1 AND SHILD2\n",
      "SHILD1 AND RNF8\n",
      "SHILD1 AND SHILD2\n",
      "SHILD1 AND SHILD2\n",
      "RNF8 AND SHILD2\n",
      "RNF8 AND SHILD2\n",
      "SHILD2 AND SHILD2\n"
     ]
    }
   ],
   "source": [
    "from itertools import combinations\n",
    "\n",
    "def generate_pairs(my_list):\n",
    "    # Generate all 2-element pairs from the list\n",
    "    pairs = list(combinations(my_list, 2))\n",
    "    # Convert tuples to a formatted string\n",
    "    formatted_pairs = [f'{pair[0]} AND {pair[1]}' for pair in pairs]\n",
    "    return formatted_pairs\n",
    "\n",
    "my_list =['53BP1', 'RIF1', 'BRCA1', 'SHILD1', 'RNF8', 'SHILD2', 'SHILD2']\n",
    "pairs_list = generate_pairs(my_list)\n",
    "for pair in pairs_list:\n",
    "    print(pair)\n"
   ]
  }
 ],
 "metadata": {
  "kernelspec": {
   "display_name": "pub2know",
   "language": "python",
   "name": "pub2know"
  },
  "language_info": {
   "codemirror_mode": {
    "name": "ipython",
    "version": 3
   },
   "file_extension": ".py",
   "mimetype": "text/x-python",
   "name": "python",
   "nbconvert_exporter": "python",
   "pygments_lexer": "ipython3",
   "version": "3.11.5"
  }
 },
 "nbformat": 4,
 "nbformat_minor": 2
}
