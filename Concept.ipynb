{
 "cells": [
  {
   "cell_type": "markdown",
   "id": "9c9404bb",
   "metadata": {},
   "source": [
    "# Creating a pilot pipline for Gene Story"
   ]
  },
  {
   "cell_type": "markdown",
   "id": "e0a5f1d7",
   "metadata": {},
   "source": [
    "![Image description](images/Concept_one.png)"
   ]
  },
  {
   "cell_type": "markdown",
   "id": "cfa1508c",
   "metadata": {},
   "source": [
    "## 1. A python script that take a list of genes from txt file and converting it to a list"
   ]
  },
  {
   "cell_type": "markdown",
   "id": "27aaa90a",
   "metadata": {},
   "source": [
    "## 2. A script that take list and proccess it\n",
    "\n",
    "- It takes the list.\n",
    "- First name from the list.\n",
    "- Search Pubmed for all (n=3) original papers (with an impact factor more than 5) between date A and date B for the key word\n",
    "- And Save the search reasult containing:\n",
    "    - Title, Authors, Abstract, Keywords, Journal name, Year\n",
    "- Save it in a database."
   ]
  },
  {
   "cell_type": "markdown",
   "id": "b3299d83",
   "metadata": {},
   "source": [
    "## 3. Creating a Database"
   ]
  },
  {
   "cell_type": "code",
   "execution_count": 15,
   "id": "fc224b3b",
   "metadata": {},
   "outputs": [
    {
     "name": "stdout",
     "output_type": "stream",
     "text": [
      "Processing 53BP1 AND RIF1...\n"
     ]
    }
   ],
   "source": [
    "import pandas as pd\n",
    "from Bio import Entrez\n",
    "import sqlite3\n",
    "from dotenv import load_dotenv\n",
    "import os\n",
    "\n",
    "# Load environment variables from .env file\n",
    "load_dotenv('/Users/probio/Documents/codes/Publication2Knowledge/.env')\n",
    "\n",
    "# Set your email and API key for Entrez\n",
    "Entrez.email = api_key = os.getenv('my_email')  # Replace with your email\n",
    "Entrez.api_key = api_key = os.getenv('my_api_Key')  # Replace with your API key (optional)\n",
    "\n",
    "def search_pubmed(query, mindate, maxdate):\n",
    "    handle = Entrez.esearch(db='pubmed', sort='pub date', retmax='10', retmode='xml', term=query, mindate=mindate, maxdate=maxdate)\n",
    "    results = Entrez.read(handle)\n",
    "    handle.close()\n",
    "    return results['IdList']\n",
    "\n",
    "def fetch_details(id_list):\n",
    "    if not id_list:\n",
    "        return []  # Return an empty list if id_list is empty\n",
    "    ids = ','.join(id_list)\n",
    "    handle = Entrez.efetch(db='pubmed', id=ids, retmode='xml')\n",
    "    results = Entrez.read(handle, validate=False)  # Disable DTD validation\n",
    "    handle.close()\n",
    "    return results\n",
    "\n",
    "\n",
    "def initialize_database(db_path):\n",
    "    conn = sqlite3.connect(db_path)\n",
    "    cursor = conn.cursor()\n",
    "    cursor.execute(\"\"\"\n",
    "        CREATE TABLE IF NOT EXISTS articles (\n",
    "            id INTEGER PRIMARY KEY AUTOINCREMENT,\n",
    "            gene TEXT,\n",
    "            title TEXT,\n",
    "            abstract TEXT,\n",
    "            authors TEXT,\n",
    "            journal TEXT,\n",
    "            year TEXT,\n",
    "            keywords TEXT\n",
    "        );\n",
    "    \"\"\")\n",
    "    conn.commit()\n",
    "    conn.close()\n",
    "\n",
    "\n",
    "def parse_article(article):\n",
    "    article_data = article['MedlineCitation']['Article']\n",
    "    title = article_data.get('ArticleTitle')\n",
    "    abstract = article_data.get('Abstract', {}).get('AbstractText', [])\n",
    "    abstract_text = ' '.join(abstract) if abstract else ''\n",
    "    authors = [author['ForeName'] + ' ' + author['LastName'] for author in article_data.get('AuthorList', [])]\n",
    "    journal = article_data.get('Journal', {}).get('Title')\n",
    "    year = article_data.get('Journal', {}).get('JournalIssue', {}).get('PubDate', {}).get('Year')\n",
    "    keywords = article.get('KeywordList', [])\n",
    "    return title, abstract_text, ', '.join(authors), journal, year, ', '.join(keywords)\n",
    "\n",
    "def main(genes, mindate, maxdate, db_path):\n",
    "    initialize_database(db_path)  # Initialize the database and create the table if it doesn't exist\n",
    "    conn = sqlite3.connect(db_path)\n",
    "    cursor = conn.cursor()\n",
    "    for gene in genes:\n",
    "        try:\n",
    "            print(f\"Processing {gene}...\")\n",
    "            id_list = search_pubmed(gene, mindate, maxdate)\n",
    "            papers = fetch_details(id_list)\n",
    "            if papers:\n",
    "                for paper in papers['PubmedArticle']:\n",
    "                    title, abstract, authors, journal, year, keywords = parse_article(paper)\n",
    "                    cursor.execute(\"INSERT INTO articles (gene, title, abstract, authors, journal, year, keywords) VALUES (?, ?, ?, ?, ?, ?, ?)\", \n",
    "                                   (gene, title, abstract, authors, journal, year, keywords))\n",
    "                conn.commit()\n",
    "            else:\n",
    "                print(f\"No results found for {gene}\")\n",
    "        except Exception as e:\n",
    "            print(f\"An error occurred while processing {gene}: {e}\")\n",
    "    conn.close()\n",
    "\n",
    "# Example usage\n",
    "genes = ['53BP1 AND RIF1']  # Replace with your list of genes\n",
    "mindate = '2018/01/01'\n",
    "maxdate = '2023/01/01'\n",
    "db_path = '/Users/probio/Documents/codes/Publication2Knowledge/publication.db'  # Replace with your database path\n",
    "\n",
    "main(genes, mindate, maxdate, db_path)\n"
   ]
  },
  {
   "cell_type": "markdown",
   "id": "a9585a77",
   "metadata": {},
   "source": [
    "### Checking entire database"
   ]
  },
  {
   "cell_type": "code",
   "execution_count": 21,
   "id": "8bfb712f",
   "metadata": {},
   "outputs": [
    {
     "name": "stdout",
     "output_type": "stream",
     "text": [
      "(1, 'RIF1 AND 53BP1', 'Reshaping Chromatin Architecture around DNA Breaks.', 'DNA double-strand breaks (DSBs) elicit major chromatin changes. Using super-resolution microscopy in human cells, Ochs et\\xa0al. unveil that the DSB response protein 53BP1 and its effector RIF1 organize DSB-flanking chromatin into circular micro-domains. These structures control the spatial distribution of DSB repair factors safeguarding genome integrity.', 'Pierre Caron, Sophie E Polo', 'Trends in biochemical sciences', '2020', '', 'DNA Double-Strand Breaks -> Chromatin Changes (53BP1 & RIF1 Organization) -> Circular Micro-Domains -> Spatial Control of DSB Repair Factors -> Safeguard Genome Integrity')\n",
      "(2, 'RIF1 AND 53BP1', '53BP1/RIF1 signaling promotes cell survival after multifractionated radiotherapy.', 'Multifractionated irradiation is the mainstay of radiation treatment in cancer therapy. Yet, little is known about the cellular DNA repair processes that take place between radiation fractions, even though understanding the molecular mechanisms promoting cancer cell recovery and survival could improve patient outcome and identify new avenues for targeted intervention. To address this knowledge gap, we systematically characterized how cells respond differentially to multifractionated and single-dose radiotherapy, using a combination of genetics-based and functional approaches. We found that both cancer cells and normal fibroblasts exhibited enhanced survival after multifractionated irradiation compared with an equivalent single dose of irradiation, and this effect was entirely dependent on 53BP1-mediated NHEJ. Furthermore, we identified RIF1 as the critical effector of 53BP1. Inhibiting 53BP1 recruitment to damaged chromatin completely abolished the survival advantage after multifractionated irradiation and could not be reversed by suppressing excessive end resection. Analysis of the TCGA database revealed lower expression of 53BP1 pathway genes in prostate cancer, suggesting that multifractionated radiotherapy might be a favorable option for radio-oncologic treatment in this tumor type. We propose that elucidation of DNA repair mechanisms elicited by different irradiation dosing regimens could improve radiotherapy selection for the individual patient and maximize the efficacy of radiotherapy.', 'Iris Eke, Dali Zong, Molykutty J Aryankalayil, Veit Sandfort, Michelle A Bylicky, Barbara H Rath, Edward E Graves, André Nussenzweig, C Norman Coleman', 'Nucleic acids research', '2020', '', 'Multifractionated Irradiation -> Enhanced Cell Survival (Cancer & Normal) Dependent on 53BP1-mediated NHEJ. RIF1 as Key Effector. Inhibiting 53BP1 Recruitment to Damaged Chromatin Abolishes Advantage in Multifractionated Irradiation. Lower Expression of 53BP1 Pathway Genes in Prostate Cancer. Multifractionated Radiotherapy Might be Favorable for Radio-Oncologic Treatment in Prostate Cancer. Elucidation of DNA Repair Mechanisms by Different Dosing Regimens Can Improve Radiotherapy Selection & Maximize Efficiency.')\n",
      "(3, 'RIF1 AND 53BP1', 'Mechanisms of PARP inhibitor resistance in ovarian cancer.', 'To summarize recently discovered PARP inhibitor resistance mechanisms and highlight the clinical relevance of these findings to date. A predominant mechanism of acquired PARP inhibitor resistance in homologous recombination-deficient cancers is the acquisition of homologous recombination proficiency as a consequence of secondary genetic or epigenetic events, such as secondary mutations in BRCA1 or BRCA2, or reversal of BRCA1 promoter methylation that restores homologous recombination and leads to PARP inhibitor resistance. Multiple other potential mechanisms of acquired resistance to PARP inhibitors including loss of DNA end resection inhibition (53BP1/REV7/RIF1/Sheldin) or DNA replication fork protection (PTIP/EZH2), but also increased drug efflux or induction of a reversible senescent or mesenchymal cell state have been described in ovarian cancer models. However, only few of these mechanisms have been identified in clinical samples. Multiple adaptive responses following PARP inhibitor treatment have been identified. Further research is needed to better understand what role these mechanisms play for clinical PARP inhibitor resistance and how these mechanisms may render ovarian cancer cells susceptible to subsequent novel combination therapies.', 'Kari Kubalanza, Gottfried E Konecny', 'Current opinion in obstetrics & gynecology', '2020', '', 'Acquired PARP inhibitor resistance in HR-deficient cancers involves secondary BRCA mutations/BRCA1 demethylation restoring HR, or other mechanisms like reversal of DNA end resection (53BP1/REV7/RIF1/Sheldin) & fork protection (PTIP/EZH2), drug efflux, senescent/mesenchymal cell state in ovarian cancer models. Few identified in clinical samples. Further research needed to understand their role and develop novel combination therapies for resistant ovarian cancer cells.')\n"
     ]
    }
   ],
   "source": [
    "# Checking the database\n",
    "\n",
    "import sqlite3\n",
    "\n",
    "def get_all_articles(db_path):\n",
    "    # Connect to the SQLite database\n",
    "    conn = sqlite3.connect(db_path)\n",
    "    cursor = conn.cursor()\n",
    "\n",
    "    # Prepare and execute the SQL query to select all records\n",
    "    query = \"SELECT * FROM articles\"\n",
    "    cursor.execute(query)\n",
    "\n",
    "    # Fetch all records\n",
    "    results = cursor.fetchall()\n",
    "\n",
    "    # Close the database connection\n",
    "    conn.close()\n",
    "\n",
    "    return results\n",
    "\n",
    "# Example usage\n",
    "db_path = '/Users/probio/Documents/codes/Publication2Knowledge/publication.db'  # Replace with your database path\n",
    "all_articles = get_all_articles(db_path)\n",
    "\n",
    "# Print the results\n",
    "for article in all_articles:\n",
    "    print(article)\n"
   ]
  },
  {
   "cell_type": "markdown",
   "id": "4e6724a2",
   "metadata": {},
   "source": [
    "## Pulling out abstract from database"
   ]
  },
  {
   "cell_type": "code",
   "execution_count": 22,
   "id": "f78f1a75",
   "metadata": {},
   "outputs": [
    {
     "name": "stdout",
     "output_type": "stream",
     "text": [
      "Abstract: To summarize recently discovered PARP inhibitor resistance mechanisms and highlight the clinical relevance of these findings to date. A predominant mechanism of acquired PARP inhibitor resistance in homologous recombination-deficient cancers is the acquisition of homologous recombination proficiency as a consequence of secondary genetic or epigenetic events, such as secondary mutations in BRCA1 or BRCA2, or reversal of BRCA1 promoter methylation that restores homologous recombination and leads to PARP inhibitor resistance. Multiple other potential mechanisms of acquired resistance to PARP inhibitors including loss of DNA end resection inhibition (53BP1/REV7/RIF1/Sheldin) or DNA replication fork protection (PTIP/EZH2), but also increased drug efflux or induction of a reversible senescent or mesenchymal cell state have been described in ovarian cancer models. However, only few of these mechanisms have been identified in clinical samples. Multiple adaptive responses following PARP inhibitor treatment have been identified. Further research is needed to better understand what role these mechanisms play for clinical PARP inhibitor resistance and how these mechanisms may render ovarian cancer cells susceptible to subsequent novel combination therapies.\n"
     ]
    }
   ],
   "source": [
    "import sqlite3\n",
    "\n",
    "def get_abstract_by_id(db_path, article_id):\n",
    "    # Connect to the SQLite database\n",
    "    conn = sqlite3.connect(db_path)\n",
    "    cursor = conn.cursor()\n",
    "\n",
    "    # Prepare and execute the SQL query\n",
    "    query = f\"SELECT abstract FROM articles WHERE id = {article_id}\"\n",
    "    cursor.execute(query)\n",
    "\n",
    "    # Fetch the first record\n",
    "    result = cursor.fetchone()\n",
    "\n",
    "    # Close the database connection\n",
    "    conn.close()\n",
    "\n",
    "    # Return the abstract if a record was found, else return None\n",
    "    return result[0] if result else None\n",
    "\n",
    "# Example usage\n",
    "db_path = '/Users/probio/Documents/codes/Publication2Knowledge/Publication.db'  # Replace with your database path\n",
    "article_id = 3  # The ID of the article\n",
    "abstract = get_abstract_by_id(db_path, article_id)\n",
    "\n",
    "if abstract:\n",
    "    print(\"Abstract:\", abstract)\n",
    "else:\n",
    "    print(\"No record found for the given ID.\")\n"
   ]
  },
  {
   "cell_type": "code",
   "execution_count": 23,
   "id": "5dafc365",
   "metadata": {},
   "outputs": [],
   "source": [
    "Input_text = abstract"
   ]
  },
  {
   "cell_type": "markdown",
   "id": "c4d131fb",
   "metadata": {},
   "source": [
    "### A python script that takes abstract send it to an LLM with pre-defined system task to create a summay.\n",
    "\n",
    "- Generated summary should be stored in the generated database\n",
    "    - Title, Authors, Abstract, Keywords, Journal name, Year, summary (by LLM)\n",
    "\n",
    "\n",
    "Pre-prompt:\n",
    "\n",
    "V6 *********\n",
    "\n",
    "\"You are a scientist which will use following guideline to create a summary with a specific format under following Guideline. Here's a guideline to assist you in converting an abstract into a similar concise summary: 1. Identify Primary Pathway Components: Focus on pinpointing the main proteins, molecules, or complexes mentioned in the abstract. Emphasize elements that are central to the pathway or process being described. 2. Establish Linear Relationships: Determine how these components are linearly related to each other. This involves identifying which components act upstream or downstream in a pathway. Look for terms like 'upstream,' 'downstream,' 'activates,' 'inhibits,' or 'interacts with'. 3. Construct a Pathway Diagram in Text: Convert the relationships into a simplified, linear pathway diagram using arrows ('--->') to indicate direct influence or flow, and a bar ('---|') to denote inhibition or blockage. The goal is to create a visual representation in text format. 4. Highlight Contextual Conditions: Include specific conditions or contexts (e.g., cell type, genetic status) in which the pathway operates. These should be mentioned at the end of the pathway diagram to provide clarity on the specific scenario in which these interactions occur. 5. Simplify and Focus on Core Elements: Strip away any secondary details that do not contribute to the main pathway structure. Focus on the core elements that are essential for understanding the primary process or interaction. 6. In your response do not put the original abstract in your answer. The response should has a structure as follow: 53BP1--->RIF1--->Shieldin--->CCAR2/DBC1 ---| DNA end resection (in BRCA1 deficient context). 7. Do not add any extra explanation before or after expected response.\"\n",
    "\n",
    "\n",
    "\n",
    "\"You are a scientist which will use following guideline to create a summary with a specific format under following Guideline. Here's a guideline to assist you in converting an abstract into a similar concise summary: 1. Identify Primary Pathway Components: Focus on pinpointing the main proteins, molecules, complexes or componds mentioned in the abstract. Emphasize elements that are central to the pathway or process being described. 2. Establish Linear Relationships: Determine how these components are linearly related to each other. This involves identifying which components act upstream or downstream in a pathway. Look for terms like 'upstream,' 'downstream,' 'activates,' 'inhibits,' or 'interacts with'. 3. Construct a Pathway Diagram in Text: Convert the relationships into a simplified, linear pathway diagram using arrows ('--->') to indicate direct influence or flow, and a bar ('---|') to denote inhibition or blockage. The goal is to create a visual representation in text format. 4. Highlight Contextual Conditions: Include specific conditions or contexts (e.g., cell type, genetic status) in which the pathway operates. These should be mentioned at the end of the pathway diagram to provide clarity on the specific scenario in which these interactions occur. 5. Simplify and Focus on Core Elements: Strip away any secondary details that do not contribute to the main pathway structure. Focus on the core elements that are essential for understanding the primary process or interaction. 6. In your response do not put the original abstract in your answer. The response should has a structure as follow: CompondA--->or---|ProteinB--->or---|ProteinC--->or---|ProteinD/E --->or---| X process (in Y deficient context). 7. Do not add any extra explanation before or after expected response.\"\n",
    "\n",
    "\n",
    "\n",
    "\"You are a scientist which will use following guideline to create a summary with a specific format under following Guideline. Here's a guideline to assist you in converting an abstract into a similar concise summary: 1. Identify Primary Pathway Components: Focus on pinpointing the main proteins, molecules, complexes or componds mentioned in the abstract. Emphasize elements that are central to the pathway or process being described. 2. Establish Linear Relationships: Determine how these components are linearly related to each other. This involves identifying which components act upstream or downstream in a pathway. Look for terms like 'upstream,' 'downstream,' 'activates,' 'inhibits,' or 'interacts with'. 3. Construct a Pathway Diagram in Text: Convert the relationships into a simplified, linear pathway diagram using arrows ('--->') to indicate direct influence or flow, and a bar ('---|') to denote inhibition or blockage. The goal is to create a visual representation in text format. 4. Highlight Contextual Conditions: Include specific conditions or contexts (e.g., cell type, genetic status) in which the pathway operates. These should be mentioned at the end of the pathway diagram to provide clarity on the specific scenario in which these interactions occur. 5. Simplify and Focus on Core Elements: Strip away any secondary details that do not contribute to the main pathway structure. Focus on the core elements that are essential for understanding the primary process or interaction. 6. In your response do not put the original abstract in your answer. The response should has a structure as follow: CompondA--->or---|ProteinB--->or---|ProteinC--->or---|ProteinD/E --->or---| X process (in Y deficient context). 7. Do not add any extra explanation before or after expected response.\"\n",
    "\n",
    "\n",
    "New version:\n",
    "\"Read a scientific text and identify important elements like genes, proteins, and drugs, making sure each is no more than two words long. Understand how these elements are connected, focusing on whether they inhibit (like 'inhibit', 'degrade', 'disrupt', 'interfere', 'suppress', 'blockade') or promote (like 'activate', 'promote', 'recruit', 'induce', 'enhance', 'facilitate') each other, using only two words to describe these connections. Instead of creating a graph, simply list the connections in a format like 'A inhibits B' or 'C promotes D', where A, B, C, and D are the key elements you identified.\"\n"
   ]
  },
  {
   "cell_type": "code",
   "execution_count": 30,
   "id": "013d3d51",
   "metadata": {},
   "outputs": [
    {
     "name": "stdout",
     "output_type": "stream",
     "text": [
      " Senescent MSCs (Mesenchymal stem cells) ---> Cyclin-dependent kinase 1 (CDK1) upregulation ---> Cell cycle arrest in replicative senescence context.\n"
     ]
    }
   ],
   "source": [
    "from openai import OpenAI\n",
    "\n",
    "client= OpenAI(base_url=\"http://localhost:5001/v1\", api_key=\"not-needed\")\n",
    "\n",
    "try:\n",
    "    completion = client.chat.completions.create(\n",
    "        model=\"marcoroni\",  # Ensure the model name is correct. It should be a valid model name from OpenAI.\n",
    "        messages=[\n",
    "            {\n",
    "                \"role\": \"system\", \n",
    "                \"content\": (\"You are a scientist which will use following guideline to create a summary with a specific format under following Guideline. Here's a guideline to assist you in converting an abstract into a similar concise summary: 1. Identify Primary Pathway Components: Focus on pinpointing the main proteins, molecules, complexes or componds mentioned in the abstract. Emphasize elements that are central to the pathway or process being described. 2. Establish Linear Relationships: Determine how these components are linearly related to each other. This involves identifying which components act upstream or downstream in a pathway. Look for terms like 'upstream,' 'downstream,' 'activates,' 'inhibits,' or 'interacts with'. 3. Construct a Pathway Diagram in Text: Convert the relationships into a simplified, linear pathway diagram using arrows ('--->') to indicate direct influence or flow, and a bar ('---|') to denote inhibition or blockage. The goal is to create a visual representation in text format. 4. Highlight Contextual Conditions: Include specific conditions or contexts (e.g., cell type, genetic status) in which the pathway operates. These should be mentioned at the end of the pathway diagram to provide clarity on the specific scenario in which these interactions occur. 5. Simplify and Focus on Core Elements: Strip away any secondary details that do not contribute to the main pathway structure. Focus on the core elements that are essential for understanding the primary process or interaction. 6. In your response do not put the original abstract in your answer. The response should has a structure as follow: CompondA--->or---|ProteinB--->or---|ProteinC--->or---|ProteinD/E --->or---| X process (in Y deficient context). 7. Do not add any extra explanation before or after expected response.\")\n",
    "             },\n",
    "            {\n",
    "                \"role\": \"user\", \n",
    "                \"content\": (\"Mesenchymal stem cells (MSCs) have been widely used in tissue regeneration and stem cell therapy and are currently being tested in numerous clinical trials. Senescence-related changes in MSC properties have attracted considerable attention. Senescent MSCs exhibit a compromised potential for proliferation; senescence acts as a stress response that prevents the proliferation of dysfunctional cells by inducing an irreversible cell cycle arrest. Here, we established a senescent MSC model using senescence-associated β-galactosidase, proliferation, and cell cycle assays. We further identified novel biomarker candidates for old, senescent tonsil-derived MSCs (TMSCs) using transcriptomics. A plot of the cellular senescence pathway showed cyclin-dependent kinase 1 (CDK1; +8-fold) and CDK2 (+2-fold), and transforming growth factor beta 2 (TGFB2; +2-fold) showed significantly higher expression in old TMSCs than in young TMSCs. The CDK family was shown to be related to cell cycle and proliferation, as confirmed by quantitative RT-PCR. As replicative senescence of TMSCs, the gene and protein expression of CDK1 was significantly increased, which was further validated by inhibiting CDK1 using an inhibitor and siRNA. Taken together, we suggest that the CDK1 can be used as a selective senescence biomarker of MSCs and broaden the research criteria for senescent mechanisms.\")\n",
    "            },\n",
    "         ],\n",
    "        temperature=0.5,\n",
    "    )\n",
    "except Exception as e:\n",
    "    print(f\"An error occurred: {e}\")\n",
    "    # Handle the error appropriately\n",
    "\n",
    "# Ensure that 'text' contains the string content of the message\n",
    "text = completion.choices[0].message.content if completion else \"\"\n",
    "print(text)"
   ]
  },
  {
   "cell_type": "code",
   "execution_count": 26,
   "id": "8b1d8862",
   "metadata": {},
   "outputs": [
    {
     "name": "stdout",
     "output_type": "stream",
     "text": [
      " 53BP1--->RIF1--->Shieldin--->CCAR2/DBC1 ---| DNA end resection (in BRCA1 deficient context). Multiple other resistance mechanisms include loss of DNA fork protection or increased drug efflux, but have limited clinical evidence. Adaptive responses identified post-treatment; further research required for clinical resistance understanding and novel combination therapy development.\n"
     ]
    }
   ],
   "source": [
    "from openai import OpenAI\n",
    "\n",
    "client= OpenAI(base_url=\"http://localhost:5001/v1\", api_key=\"not-needed\")\n",
    "\n",
    "try:\n",
    "    completion = client.chat.completions.create(\n",
    "        model=\"marcoroni\",  # Ensure the model name is correct. It should be a valid model name from OpenAI.\n",
    "        messages=[\n",
    "            {\n",
    "                \"role\": \"system\", \n",
    "                \"content\": (\"You are a scientist which will use following guideline to create a summary with a specific format under following Guideline. Here's a guideline to assist you in converting an abstract into a similar concise summary: 1. Identify Primary Pathway Components: Focus on pinpointing the main proteins, molecules, complexes or componds mentioned in the abstract. Emphasize elements that are central to the pathway or process being described. 2. Establish Linear Relationships: Determine how these components are linearly related to each other. This involves identifying which components act upstream or downstream in a pathway. Look for terms like 'upstream,' 'downstream,' 'activates,' 'inhibits,' or 'interacts with'. 3. Construct a Pathway Diagram in Text: Convert the relationships into a simplified, linear pathway diagram using arrows ('--->') to indicate direct influence or flow, and a bar ('---|') to denote inhibition or blockage. The goal is to create a visual representation in text format. 4. Highlight Contextual Conditions: Include specific conditions or contexts (e.g., cell type, genetic status) in which the pathway operates. These should be mentioned at the end of the pathway diagram to provide clarity on the specific scenario in which these interactions occur. 5. Simplify and Focus on Core Elements: Strip away any secondary details that do not contribute to the main pathway structure. Focus on the core elements that are essential for understanding the primary process or interaction. 6. In your response do not put the original abstract in your answer. The response should has a structure as follow: CompondA--->ProteinB--->ProteinC--->ProteinD/E ---| X process (in Y deficient context). 7. Do not add any extra explanation before or after expected response.\")\n",
    "             },\n",
    "            {\n",
    "                \"role\": \"user\", \n",
    "                \"content\": (Input_text)\n",
    "            },\n",
    "         ],\n",
    "        temperature=0.4,\n",
    "    )\n",
    "except Exception as e:\n",
    "    print(f\"An error occurred: {e}\")\n",
    "    # Handle the error appropriately\n",
    "\n",
    "# Ensure that 'text' contains the string content of the message\n",
    "text = completion.choices[0].message.content if completion else \"\"\n",
    "print(text)"
   ]
  },
  {
   "cell_type": "markdown",
   "id": "2f5cecc2",
   "metadata": {},
   "source": [
    "Abstract: Chromosomal instability (CIN) is a hallmark of cancer and comprises structural CIN (S-CIN) and numerical or whole chromosomal CIN (W-CIN). Recent work indicated that replication stress (RS), known to contribute to S-CIN, also affects mitotic chromosome segregation, possibly explaining the common co-existence of S-CIN and W-CIN in human cancer. Here, we show that RS-induced increased origin firing is sufficient to trigger W-CIN in human cancer cells. We discovered that overexpression of origin firing genes, including GINS1 and CDC45, correlates with W-CIN in human cancer specimens and causes W-CIN in otherwise chromosomally stable human cells. Furthermore, modulation of the ATR-CDK1-RIF1 axis increases the number of firing origins and leads to W-CIN. Importantly, chromosome missegregation upon additional origin firing is mediated by increased mitotic microtubule growth rates, a mitotic defect prevalent in chromosomally unstable cancer cells. Thus, our study identifies increased replication origin firing as a cancer-relevant trigger for chromosomal instability.\n",
    "\n",
    "Marcoroni 5Q ### 13.7s\n",
    "GINS1--->CDC45--->Origin Firing --->ATR-CDK1-RIF1 Axis ----> Increased Origin Firing --->Microtubule Growth Rates ---| Chromosome Missegregation (in Chromosomally Unstable Cancer Cells).\n",
    "\n",
    "GINS1/CDC45--->Origin Firing--->ATR-CDK1-RIF1 Axis---| Increased Replication Origin Firing (in Cancer Context) --->Mitotic Microtubule Growth Rate --->Chromosome Missegregation --->W-CIN.\n",
    "\n",
    "Marcoroni 3Q ### 13.4s\n",
    "GINS1/CDC45 ---> Origin Firing ---> ATR-CDK1-RIF1 axis ---> Increased microtubule growth rates (in chromosomally unstable context) --> S-CIN & W-CIN.\n",
    "\n",
    "GINS1/CDC45 ---> Origin Firing ---> ATR-CDK1-RIF1 axis ---> Increased firing origins ---> Mitotic microtubule growth rates (increased) ---> Chromosome missegregation ---> W-CIN (in chromosomally unstable cancer cells).\n",
    "\n",
    "Mistral instruct v0 2 7B Q5_K_M ### 13.1s\n",
    "53BP1--->ATR (activates)--->CDK1--->RIF1--->Shieldin--->ORC/MCM2-7 (upon DNA damage)---->GINS1, CDC45 (overexpression) ------> Increased origin firing --------> Mitotic microtubule growth rates increase ---> Chromosome missegregation ---> W-CIN (in chromosomally unstable cancer cells context).\n",
    "\n",
    "53BP1--->ATR--->CDK1--->Cdc45/GINS1--->Origin Firing ----> Mitotic Microtubule Growth Rates Increase ---> Chromosome Missegregation ---> W-CIN (in cancer context).\n",
    "\n",
    "phi-2 Q8 ### 8.0s\n",
    "This paper discusses the relationship between replication stress and chromosome segregation in human cancer cells. The authors found that overexpression of certain genes can lead to an increase in the number of origins during replication, which can cause chromosome missegregation. This is particularly relevant in cancer cells, where chromosomal instability is a common feature.\n",
    "\n",
    "llama 2 chat 7B 5Q_K_M ### 10.7s\n",
    "53BP1--->RIF1--->Shieldin--->CCAR2/DBC1 ---| DNA end resection (in BRCA1 deficient context).\n",
    "53BP1--->RIF1--->Shieldin--->CCAR2/DBC1 ---| DNA end resection (in BRCA1 deficient context).\n",
    "\n",
    "solar 19 instruct v1 9 34B Q5_K_M ### 21.5 sec\n",
    "CDC45--->GINS1--->Increased Origin Firing (in human cancer cells) \n",
    "ATR--->CDK1--->RIF1--->Increased Origin Firing \n",
    "---| Chromosome Segregation Defects (mitotic microtubule growth rate increase in chromosomally unstable context)\n",
    "\n",
    "Catmarcaroni slerp 7B Q5_K_M ### 12.6\n",
    "GINS1--->CDC45--->Origin Firing (ATR-CDK1-RIF1 axis)---| Increased Replication Origin Firing ---> Chromosome Missegregation ---> W-CIN (in cancer context).\n",
    "\n",
    "\n",
    "sauerkraut una solar instruct 34B Q5_K_M ### 16.1\n",
    "\n",
    "CDC45/GINS1--->ATR--->CDK1--->RIF1 --->Increased microtubule growth rates (in human cancer cells).\n",
    "GINS1/CDC45--->ATR--->CDK1--->RIF1 --->Increased microtubule growth rates (in human cancer context)."
   ]
  },
  {
   "cell_type": "markdown",
   "id": "26ae3f83",
   "metadata": {},
   "source": [
    "## Store the summary in the database associated with the given article ID"
   ]
  },
  {
   "cell_type": "code",
   "execution_count": 12,
   "id": "f87e7738",
   "metadata": {},
   "outputs": [],
   "source": [
    "#########################################################################################\n",
    "# Store the summary in the database associated with the given article ID\n",
    "#########################################################################################\n",
    "\n",
    "def store_summary(db_path, article_id, summary):\n",
    "    # Connect to the SQLite database\n",
    "    conn = sqlite3.connect(db_path)\n",
    "    cursor = conn.cursor()\n",
    "\n",
    "    # Add a new column for the summary if it does not exist\n",
    "    cursor.execute(\"ALTER TABLE articles ADD COLUMN summary TEXT\")\n",
    "    conn.commit()\n",
    "\n",
    "    # Prepare and execute the SQL query to update the summary for the given article ID\n",
    "    query = f\"UPDATE articles SET summary = ? WHERE id = ?\"\n",
    "    cursor.execute(query, (summary, article_id))\n",
    "\n",
    "    # Commit the changes and close the database connection\n",
    "    conn.commit()\n",
    "    conn.close()\n",
    "\n",
    "# Example usage\n",
    "db_path = '/Users/probio/Documents/codes/Publication2Knowledge/Publication.db'  # Replace with your database path\n",
    "article_id = 1  # The ID of the article for which the summary was generated\n",
    "summary = text  # The summary text generated by the LLM\n",
    "\n",
    "store_summary(db_path, article_id, summary)\n",
    "\n"
   ]
  },
  {
   "cell_type": "markdown",
   "id": "dbd4e894",
   "metadata": {},
   "source": [
    "### Pipline goes back to the list and takes next gene in the list."
   ]
  },
  {
   "cell_type": "markdown",
   "id": "8d2a4ab5",
   "metadata": {},
   "source": [
    "#### Printing summary"
   ]
  },
  {
   "cell_type": "code",
   "execution_count": 4,
   "id": "ede99d46",
   "metadata": {},
   "outputs": [
    {
     "name": "stdout",
     "output_type": "stream",
     "text": [
      "Summary:  1. RIF1, inhibit, UFB resolution; 2. RIF1, localize on PICH-coated, not RPA-coated UFBs; 3. RIF1 de...\n"
     ]
    }
   ],
   "source": [
    "import sqlite3\n",
    "\n",
    "def summarize_text(text, max_length=100):\n",
    "    \"\"\"\n",
    "    Generate a simple summary of the text by truncating it.\n",
    "    :param text: The text to summarize.\n",
    "    :param max_length: The maximum length of the summary.\n",
    "    :return: A summarized version of the text.\n",
    "    \"\"\"\n",
    "    return text if len(text) <= max_length else text[:max_length] + '...'\n",
    "\n",
    "def get_abstract_by_id(db_path, article_id):\n",
    "    # Connect to the SQLite database\n",
    "    conn = sqlite3.connect(db_path)\n",
    "    cursor = conn.cursor()\n",
    "\n",
    "    # Prepare and execute the SQL query\n",
    "    query = f\"SELECT summary FROM articles WHERE id = {article_id}\"\n",
    "    cursor.execute(query)\n",
    "\n",
    "    # Fetch the first record\n",
    "    result = cursor.fetchone()\n",
    "\n",
    "    # Close the database connection\n",
    "    conn.close()\n",
    "\n",
    "    # Return the abstract if a record was found, else return None\n",
    "    return result[0] if result else None\n",
    "\n",
    "# Example usage\n",
    "db_path = '/Users/probio/Documents/codes/Publication2Knowledge/53BP1_RIF1.db'  # Replace with your database path\n",
    "article_id = 3  # The ID of the article\n",
    "summary = get_abstract_by_id(db_path, article_id)\n",
    "\n",
    "if summary:\n",
    "    summary = summarize_text(summary)\n",
    "    print(\"Summary:\", summary)\n",
    "else:\n",
    "    print(\"No record found for the given ID.\")\n"
   ]
  },
  {
   "cell_type": "markdown",
   "id": "536fc85f",
   "metadata": {},
   "source": [
    "#### Exporting all db to csv file"
   ]
  },
  {
   "cell_type": "code",
   "execution_count": 5,
   "id": "ae306d66",
   "metadata": {},
   "outputs": [
    {
     "name": "stdout",
     "output_type": "stream",
     "text": [
      "Data exported successfully to /Users/probio/Documents/codes/Publication2Knowledge/53BP1_RIF1.csv\n"
     ]
    }
   ],
   "source": [
    "import sqlite3\n",
    "import csv\n",
    "\n",
    "def export_db_to_csv(db_path, csv_path):\n",
    "    \"\"\"\n",
    "    Export data from an SQLite database table to a CSV file.\n",
    "    :param db_path: Path to the SQLite database file.\n",
    "    :param csv_path: Path to the CSV file where data will be written.\n",
    "    \"\"\"\n",
    "    # Connect to the SQLite database\n",
    "    conn = sqlite3.connect(db_path)\n",
    "    cursor = conn.cursor()\n",
    "\n",
    "    # Prepare SQL query to select all data from the articles table\n",
    "    query = \"SELECT * FROM articles\"\n",
    "\n",
    "    # Execute the query\n",
    "    cursor.execute(query)\n",
    "\n",
    "    # Fetch all records\n",
    "    records = cursor.fetchall()\n",
    "\n",
    "    # Get the column headers\n",
    "    columns = [description[0] for description in cursor.description]\n",
    "\n",
    "    # Open a CSV file for writing\n",
    "    with open(csv_path, 'w', newline='', encoding='utf-8') as csv_file:\n",
    "        writer = csv.writer(csv_file)\n",
    "\n",
    "        # Write the column headers\n",
    "        writer.writerow(columns)\n",
    "\n",
    "        # Write the records\n",
    "        writer.writerows(records)\n",
    "\n",
    "    # Close the database connection\n",
    "    conn.close()\n",
    "\n",
    "    print(f\"Data exported successfully to {csv_path}\")\n",
    "\n",
    "# Example usage\n",
    "db_path = '/Users/probio/Documents/codes/Publication2Knowledge/53BP1_RIF1.db'  # Replace with your database path\n",
    "csv_path = '/Users/probio/Documents/codes/Publication2Knowledge/53BP1_RIF1.csv'  # Replace with your desired CSV path\n",
    "export_db_to_csv(db_path, csv_path)\n"
   ]
  },
  {
   "cell_type": "markdown",
   "id": "206f8631",
   "metadata": {},
   "source": [
    "### Combining multiple dataset\n",
    "\n",
    "Searching keywords, turning them into summaries, and saving them into a database is a compute-consuming process; therefore, it is essential to search for each keyword independently. As a consequence, we are ending up with multiple databases that need to be integrated. Since databases has the same format and name of all databases start with \"publication-\" and end with \".db\", can you write an script to combine them in python."
   ]
  },
  {
   "cell_type": "code",
   "execution_count": 20,
   "id": "9c66925f",
   "metadata": {},
   "outputs": [
    {
     "name": "stdout",
     "output_type": "stream",
     "text": [
      "Found 4 database files.\n",
      "Processing file: /Users/probio/Documents/codes/Publication2Knowledge/publication_BRCA1_BRD4.db\n",
      "Inserted 11 rows from /Users/probio/Documents/codes/Publication2Knowledge/publication_BRCA1_BRD4.db\n",
      "Processing file: /Users/probio/Documents/codes/Publication2Knowledge/publication_G9a_GLP.db\n",
      "Inserted 14 rows from /Users/probio/Documents/codes/Publication2Knowledge/publication_G9a_GLP.db\n",
      "Processing file: /Users/probio/Documents/codes/Publication2Knowledge/publication_53BP1_RIF1.db\n",
      "Inserted 20 rows from /Users/probio/Documents/codes/Publication2Knowledge/publication_53BP1_RIF1.db\n",
      "Processing file: /Users/probio/Documents/codes/Publication2Knowledge/publication_MGA_MYC.db\n",
      "Inserted 13 rows from /Users/probio/Documents/codes/Publication2Knowledge/publication_MGA_MYC.db\n"
     ]
    }
   ],
   "source": [
    "def merge_databases_with_logging(source_dir, merged_db_name):\n",
    "    \"\"\"\n",
    "    Merges multiple SQLite databases with a similar schema into a new database with logging.\n",
    "\n",
    "    :param source_dir: Directory containing the source databases.\n",
    "    :param merged_db_name: Name of the merged database.\n",
    "    :return: None\n",
    "    \"\"\"\n",
    "    # File pattern for matching database files\n",
    "    db_pattern = os.path.join(source_dir, \"publication_*.db\")\n",
    "\n",
    "    # Find all database files in the directory\n",
    "    db_files = glob.glob(db_pattern)\n",
    "    print(f\"Found {len(db_files)} database files.\")\n",
    "\n",
    "    # Create or connect to the new merged database\n",
    "    merged_conn = sqlite3.connect(merged_db_name)\n",
    "    merged_cursor = merged_conn.cursor()\n",
    "\n",
    "    # Create a table in the merged database (excluding the AUTOINCREMENT from the ID)\n",
    "    create_table_query = \"\"\"\n",
    "    CREATE TABLE IF NOT EXISTS articles (\n",
    "        id INTEGER PRIMARY KEY,\n",
    "        gene TEXT,\n",
    "        title TEXT,\n",
    "        abstract TEXT,\n",
    "        authors TEXT,\n",
    "        journal TEXT,\n",
    "        year TEXT,\n",
    "        keywords TEXT,\n",
    "        summary TEXT\n",
    "    )\n",
    "    \"\"\"\n",
    "    merged_cursor.execute(create_table_query)\n",
    "\n",
    "    # Iterate over each database file and insert data into the merged database\n",
    "    for db_file in db_files:\n",
    "        print(f\"Processing file: {db_file}\")\n",
    "        source_conn = sqlite3.connect(db_file)\n",
    "        source_cursor = source_conn.cursor()\n",
    "\n",
    "        # Select data excluding the ID\n",
    "        select_query = \"SELECT gene, title, abstract, authors, journal, year, keywords, summary FROM articles\"\n",
    "        rows_inserted = 0\n",
    "        for row in source_cursor.execute(select_query):\n",
    "            # Insert data into the merged database\n",
    "            insert_query = \"INSERT INTO articles (gene, title, abstract, authors, journal, year, keywords, summary) VALUES (?, ?, ?, ?, ?, ?, ?, ?)\"\n",
    "            merged_cursor.execute(insert_query, row)\n",
    "            rows_inserted += 1\n",
    "\n",
    "        print(f\"Inserted {rows_inserted} rows from {db_file}\")\n",
    "        # Close the source database connection\n",
    "        source_conn.close()\n",
    "\n",
    "    # Commit changes and close the merged database connection\n",
    "    merged_conn.commit()\n",
    "    merged_conn.close()\n",
    "\n",
    "# Example usage\n",
    "source_directory = '/Users/probio/Documents/codes/Publication2Knowledge/'  # Replace with the actual directory path\n",
    "merged_db_name = '/Users/probio/Documents/codes/Publication2Knowledge/merged_database.db'  # Replace with the desired path for the merged database\n",
    "\n",
    "# Uncomment the following line to run the script with logging\n",
    "merge_databases_with_logging(source_directory, merged_db_name)\n"
   ]
  },
  {
   "cell_type": "markdown",
   "id": "695c1697",
   "metadata": {},
   "source": [
    "### Cleaning summary and turning it into knowledge\n",
    "\n",
    "First step is recovering summaries from databases. The idea is first explore and find the way by just taking one summary from database. The pulled summary is inspected to find the way for cleaning and turining it into a format that can be used later on with NetworkX. NetworkX uses the provided data to create a knowledge graph. A cumulated data in the format of knowledge graph is used to identify the function of a gene or a group of genes to compete with gene ontology analysis."
   ]
  },
  {
   "cell_type": "code",
   "execution_count": 38,
   "id": "677dc279",
   "metadata": {},
   "outputs": [
    {
     "name": "stdout",
     "output_type": "stream",
     "text": [
      "Summary: N-WASP ---> Inhibits ---> p53-induced Senescence (via G9a/GLP, DNMT1). 7,12-Dimethylbenz(a)anthracen...\n"
     ]
    }
   ],
   "source": [
    "# Pulling out a summary from database\n",
    "import sqlite3\n",
    "\n",
    "def summarize_text(text, max_length=100):\n",
    "    \"\"\"\n",
    "    Generate a simple summary of the text by truncating it.\n",
    "    :param text: The text to summarize.\n",
    "    :param max_length: The maximum length of the summary.\n",
    "    :return: A summarized version of the text.\n",
    "    \"\"\"\n",
    "    return text if len(text) <= max_length else text[:max_length] + '...'\n",
    "\n",
    "def get_abstract_by_id(db_path, article_id):\n",
    "    # Connect to the SQLite database\n",
    "    conn = sqlite3.connect(db_path)\n",
    "    cursor = conn.cursor()\n",
    "\n",
    "    # Prepare and execute the SQL query\n",
    "    query = f\"SELECT summary FROM articles WHERE id = {article_id}\"\n",
    "    cursor.execute(query)\n",
    "\n",
    "    # Fetch the first record\n",
    "    result = cursor.fetchone()\n",
    "\n",
    "    # Close the database connection\n",
    "    conn.close()\n",
    "\n",
    "    # Return the abstract if a record was found, else return None\n",
    "    return result[0] if result else None\n",
    "\n",
    "# Example usage\n",
    "db_path = '/Users/probio/Documents/codes/Publication2Knowledge/merged_database.db'  # Replace with your database path\n",
    "article_id = 20  # The ID of the article\n",
    "summary = get_abstract_by_id(db_path, article_id)\n",
    "\n",
    "if summary:\n",
    "    summary = summarize_text(summary)\n",
    "    print(\"Summary:\", summary)\n",
    "else:\n",
    "    print(\"No record found for the given ID.\")\n"
   ]
  },
  {
   "cell_type": "markdown",
   "id": "b36c8b14",
   "metadata": {},
   "source": [
    "### Sending summary to LLM for clane up.\n",
    "\n",
    "Prompt:\n",
    "\n",
    "\"You are a scientist and your job is to clean up and correct information that you recive. Information are in the format of graphical summary plus a short text that define context of informaton. In the graphical summary \"--->\" is signe of activation or any words that carry a mean of positive effect. Additionally, \"---|\" is signe of inhibition and any words that carry a mean of negative effect. Your job is to clean up summary by fomating interaction that you fine. For example \"BAP1--->BRD4 (via MYC, BET inhibitors in BAP1 deficient context).\" can clean up as follow. BAP1, activate, BRD4\"\n",
    "\n",
    "\"You are a scientist, and your job is to clean up and correct information that you receive. Information is in the format of a graphical summary plus a short text that defines the context of the information. In the graphical summary ---> is a sign of activation or any words that carry a positive effect. Additionally, ---| is a sign of inhibition, as are any words that carry a negative effect. For example, if you read 'A--->B inhibition' then you can change it to 'A---|B'. Or lean a wrong sign.\""
   ]
  },
  {
   "cell_type": "code",
   "execution_count": 39,
   "id": "838c23b8",
   "metadata": {},
   "outputs": [
    {
     "name": "stdout",
     "output_type": "stream",
     "text": [
      " N-WASP --> Inhibits --> P53-Induced Senescence (via G9a/GLP, DNMT1); Misleading arrow direction, should be \"N-WASP inhibits...\" with a correct sign for inhibition '-->' replaced by '-->'.\n"
     ]
    }
   ],
   "source": [
    "from openai import OpenAI\n",
    "\n",
    "client= OpenAI(base_url=\"http://localhost:5001/v1\", api_key=\"not-needed\")\n",
    "\n",
    "try:\n",
    "    completion = client.chat.completions.create(\n",
    "        model=\"marcoroni\",  # Ensure the model name is correct. It should be a valid model name from OpenAI.\n",
    "        messages=[\n",
    "            {\n",
    "                \"role\": \"system\", \n",
    "                \"content\": (\"You are a scientist, and your job is to clean up and correct information that you receive. Information is in the format of a graphical summary plus a short text that defines the context of the information. In the graphical summary ---> is a sign of activation or any words that carry a positive effect. Additionally, ---| is a sign of inhibition, as are any words that carry a negative effect. Your job is to identify relations between component and check if signs are used corrctly. If not you should corrct them.\")\n",
    "             },\n",
    "            {\n",
    "                \"role\": \"user\", \n",
    "                \"content\": (summary)\n",
    "            },\n",
    "         ],\n",
    "        temperature=0.4,\n",
    "    )\n",
    "except Exception as e:\n",
    "    print(f\"An error occurred: {e}\")\n",
    "    # Handle the error appropriately\n",
    "\n",
    "# Ensure that 'text' contains the string content of the message\n",
    "text = completion.choices[0].message.content if completion else \"\"\n",
    "print(text)"
   ]
  }
 ],
 "metadata": {
  "kernelspec": {
   "display_name": "pub2know",
   "language": "python",
   "name": "pub2know"
  },
  "language_info": {
   "codemirror_mode": {
    "name": "ipython",
    "version": 3
   },
   "file_extension": ".py",
   "mimetype": "text/x-python",
   "name": "python",
   "nbconvert_exporter": "python",
   "pygments_lexer": "ipython3",
   "version": "3.11.5"
  }
 },
 "nbformat": 4,
 "nbformat_minor": 5
}
