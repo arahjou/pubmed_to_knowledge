{
 "cells": [
  {
   "cell_type": "code",
   "execution_count": null,
   "id": "25434e2b-ade6-4310-898b-d26cc04b0f81",
   "metadata": {},
   "outputs": [],
   "source": []
  }
 ],
 "metadata": {
  "kernelspec": {
   "display_name": "pub2know",
   "language": "python",
   "name": "pub2know"
  },
  "language_info": {
   "codemirror_mode": {
    "name": "ipython",
    "version": 3
   },
   "file_extension": ".py",
   "mimetype": "text/x-python",
   "name": "python",
   "nbconvert_exporter": "python",
   "pygments_lexer": "ipython3",
   "version": "3.11.5"
  }
 },
 "nbformat": 4,
 "nbformat_minor": 5
}
